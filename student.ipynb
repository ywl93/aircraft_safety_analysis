{
 "cells": [
  {
   "cell_type": "markdown",
   "metadata": {},
   "source": [
    "## Final Project Submission\n",
    "\n",
    "* Student name: Yi-Wei Liu\n",
    "* Student pace: Flex\n",
    "* Scheduled project review date/time: Nov 16, 2023 (10:00-10:45 AM)\n",
    "* Instructor name: Morgan Jones\n",
    "* Blog post URL: https://medium.com/@yw.liu93/data-science-and-efficient-financial-markets-efc812877fdb"
   ]
  },
  {
   "cell_type": "markdown",
   "metadata": {},
   "source": [
    "###  Introduction\n",
    "In this project, a hypothetical company (the \"Company\") is expanding into the business of operating aircraft for enterprises. The company would like to identify aircraft with the best safety record. For the purposes of this project, I define \"best safety record\" as having the lowest ratio of accidents involving fatal injuries to total number of accidents. \n",
    "\n",
    "This project will analyze the safety record of each major manufacturer, with further breakdowns by flight location, aircraft purpose and weather conditions. With the results of this project, the Company would be better informed on the long-term safety record of different manufacturers when negotiating with potential vendors. The Company would also have better insight on the risk of poor weather on flight safety."
   ]
  },
  {
   "cell_type": "markdown",
   "metadata": {},
   "source": [
    "###  Data Source\n",
    "This project's data source is a dataset from the National Transportation Safety Board (\"NTSB Dataset\"). The NTSB Dataset includes information on 90,348 aviation accidents from 1962 to 2023 in the U.S. and in international waters, with details on 30 variables.  \n",
    "\n",
    "Link to NTSB Dataset: https://www.kaggle.com/datasets/khsamaha/aviation-accident-database-synopses\n",
    "\n",
    "#### Suitability of the NTSB Dataset for this project\n",
    "(+) Spans a long period of time, able to assess manufacturers' long-term record  \n",
    "(+) Relatively well-maintained data for variables relevant to our business questions (manufacturer, location, purpose, weather, number of fatal injuries)\n",
    "\n",
    "(-) Does not include any data or metadata on flights not involved in accidents; as a result, we are unable to assess the accident rate as a percentage of all flights. Organizations like IATA typically report aircraft safety in terms of number of total or fatal accidents per million passenger miles."
   ]
  },
  {
   "cell_type": "markdown",
   "metadata": {},
   "source": [
    "### Business Questions and Project Focus\n",
    "For this project, I will focus only on the aircraft manufacturer and not on specific aircraft models. The Company is seeking a long-term vendor to be a reliable supplier across a range of model types.\n",
    "\n",
    "I will also answer the following business questions:\n",
    "\n",
    "1) Location: Does the safety record vary between flights in the United States vs. overseas?\n",
    "\n",
    "2) Purpose: Does the safety record vary between aircraft for personal and commercial use?\n",
    "\n",
    "3) Weather: Is bad weather a major factor in causing fatal accidents?"
   ]
  },
  {
   "cell_type": "markdown",
   "metadata": {},
   "source": [
    "### Data Preparation\n",
    "In the below section, I clean up the data to more efficiently answer the above business questions."
   ]
  },
  {
   "cell_type": "code",
   "execution_count": 2,
   "metadata": {},
   "outputs": [
    {
     "data": {
      "text/html": [
       "<div>\n",
       "<style scoped>\n",
       "    .dataframe tbody tr th:only-of-type {\n",
       "        vertical-align: middle;\n",
       "    }\n",
       "\n",
       "    .dataframe tbody tr th {\n",
       "        vertical-align: top;\n",
       "    }\n",
       "\n",
       "    .dataframe thead th {\n",
       "        text-align: right;\n",
       "    }\n",
       "</style>\n",
       "<table border=\"1\" class=\"dataframe\">\n",
       "  <thead>\n",
       "    <tr style=\"text-align: right;\">\n",
       "      <th></th>\n",
       "      <th>Number.of.Engines</th>\n",
       "      <th>Total.Fatal.Injuries</th>\n",
       "      <th>Total.Serious.Injuries</th>\n",
       "      <th>Total.Minor.Injuries</th>\n",
       "      <th>Total.Uninjured</th>\n",
       "    </tr>\n",
       "  </thead>\n",
       "  <tbody>\n",
       "    <tr>\n",
       "      <th>count</th>\n",
       "      <td>82805.000000</td>\n",
       "      <td>77488.000000</td>\n",
       "      <td>76379.000000</td>\n",
       "      <td>76956.000000</td>\n",
       "      <td>82977.000000</td>\n",
       "    </tr>\n",
       "    <tr>\n",
       "      <th>mean</th>\n",
       "      <td>1.146585</td>\n",
       "      <td>0.647855</td>\n",
       "      <td>0.279881</td>\n",
       "      <td>0.357061</td>\n",
       "      <td>5.325440</td>\n",
       "    </tr>\n",
       "    <tr>\n",
       "      <th>std</th>\n",
       "      <td>0.446510</td>\n",
       "      <td>5.485960</td>\n",
       "      <td>1.544084</td>\n",
       "      <td>2.235625</td>\n",
       "      <td>27.913634</td>\n",
       "    </tr>\n",
       "    <tr>\n",
       "      <th>min</th>\n",
       "      <td>0.000000</td>\n",
       "      <td>0.000000</td>\n",
       "      <td>0.000000</td>\n",
       "      <td>0.000000</td>\n",
       "      <td>0.000000</td>\n",
       "    </tr>\n",
       "    <tr>\n",
       "      <th>25%</th>\n",
       "      <td>1.000000</td>\n",
       "      <td>0.000000</td>\n",
       "      <td>0.000000</td>\n",
       "      <td>0.000000</td>\n",
       "      <td>0.000000</td>\n",
       "    </tr>\n",
       "    <tr>\n",
       "      <th>50%</th>\n",
       "      <td>1.000000</td>\n",
       "      <td>0.000000</td>\n",
       "      <td>0.000000</td>\n",
       "      <td>0.000000</td>\n",
       "      <td>1.000000</td>\n",
       "    </tr>\n",
       "    <tr>\n",
       "      <th>75%</th>\n",
       "      <td>1.000000</td>\n",
       "      <td>0.000000</td>\n",
       "      <td>0.000000</td>\n",
       "      <td>0.000000</td>\n",
       "      <td>2.000000</td>\n",
       "    </tr>\n",
       "    <tr>\n",
       "      <th>max</th>\n",
       "      <td>8.000000</td>\n",
       "      <td>349.000000</td>\n",
       "      <td>161.000000</td>\n",
       "      <td>380.000000</td>\n",
       "      <td>699.000000</td>\n",
       "    </tr>\n",
       "  </tbody>\n",
       "</table>\n",
       "</div>"
      ],
      "text/plain": [
       "       Number.of.Engines  Total.Fatal.Injuries  Total.Serious.Injuries  \\\n",
       "count       82805.000000          77488.000000            76379.000000   \n",
       "mean            1.146585              0.647855                0.279881   \n",
       "std             0.446510              5.485960                1.544084   \n",
       "min             0.000000              0.000000                0.000000   \n",
       "25%             1.000000              0.000000                0.000000   \n",
       "50%             1.000000              0.000000                0.000000   \n",
       "75%             1.000000              0.000000                0.000000   \n",
       "max             8.000000            349.000000              161.000000   \n",
       "\n",
       "       Total.Minor.Injuries  Total.Uninjured  \n",
       "count          76956.000000     82977.000000  \n",
       "mean               0.357061         5.325440  \n",
       "std                2.235625        27.913634  \n",
       "min                0.000000         0.000000  \n",
       "25%                0.000000         0.000000  \n",
       "50%                0.000000         1.000000  \n",
       "75%                0.000000         2.000000  \n",
       "max              380.000000       699.000000  "
      ]
     },
     "execution_count": 2,
     "metadata": {},
     "output_type": "execute_result"
    }
   ],
   "source": [
    "import pandas as pd\n",
    "import numpy as np\n",
    "\n",
    "# We start with a general look at the dataset:\n",
    "aircraft_df = pd.read_csv('data/Aviation_Data.csv', low_memory=False)\n",
    "aircraft_df.describe()"
   ]
  },
  {
   "cell_type": "code",
   "execution_count": 2,
   "metadata": {
    "scrolled": true
   },
   "outputs": [
    {
     "data": {
      "text/html": [
       "<div>\n",
       "<style scoped>\n",
       "    .dataframe tbody tr th:only-of-type {\n",
       "        vertical-align: middle;\n",
       "    }\n",
       "\n",
       "    .dataframe tbody tr th {\n",
       "        vertical-align: top;\n",
       "    }\n",
       "\n",
       "    .dataframe thead th {\n",
       "        text-align: right;\n",
       "    }\n",
       "</style>\n",
       "<table border=\"1\" class=\"dataframe\">\n",
       "  <thead>\n",
       "    <tr style=\"text-align: right;\">\n",
       "      <th></th>\n",
       "      <th>Event.Id</th>\n",
       "      <th>Investigation.Type</th>\n",
       "      <th>Accident.Number</th>\n",
       "      <th>Event.Date</th>\n",
       "      <th>Location</th>\n",
       "      <th>Country</th>\n",
       "      <th>Latitude</th>\n",
       "      <th>Longitude</th>\n",
       "      <th>Airport.Code</th>\n",
       "      <th>Airport.Name</th>\n",
       "      <th>...</th>\n",
       "      <th>Purpose.of.flight</th>\n",
       "      <th>Air.carrier</th>\n",
       "      <th>Total.Fatal.Injuries</th>\n",
       "      <th>Total.Serious.Injuries</th>\n",
       "      <th>Total.Minor.Injuries</th>\n",
       "      <th>Total.Uninjured</th>\n",
       "      <th>Weather.Condition</th>\n",
       "      <th>Broad.phase.of.flight</th>\n",
       "      <th>Report.Status</th>\n",
       "      <th>Publication.Date</th>\n",
       "    </tr>\n",
       "  </thead>\n",
       "  <tbody>\n",
       "    <tr>\n",
       "      <th>0</th>\n",
       "      <td>20001218X45444</td>\n",
       "      <td>Accident</td>\n",
       "      <td>SEA87LA080</td>\n",
       "      <td>10/24/1948</td>\n",
       "      <td>MOOSE CREEK, ID</td>\n",
       "      <td>United States</td>\n",
       "      <td>NaN</td>\n",
       "      <td>NaN</td>\n",
       "      <td>NaN</td>\n",
       "      <td>NaN</td>\n",
       "      <td>...</td>\n",
       "      <td>Personal</td>\n",
       "      <td>NaN</td>\n",
       "      <td>2.0</td>\n",
       "      <td>0.0</td>\n",
       "      <td>0.0</td>\n",
       "      <td>0.0</td>\n",
       "      <td>UNK</td>\n",
       "      <td>Cruise</td>\n",
       "      <td>Probable Cause</td>\n",
       "      <td>NaN</td>\n",
       "    </tr>\n",
       "    <tr>\n",
       "      <th>1</th>\n",
       "      <td>20001218X45447</td>\n",
       "      <td>Accident</td>\n",
       "      <td>LAX94LA336</td>\n",
       "      <td>7/19/1962</td>\n",
       "      <td>BRIDGEPORT, CA</td>\n",
       "      <td>United States</td>\n",
       "      <td>NaN</td>\n",
       "      <td>NaN</td>\n",
       "      <td>NaN</td>\n",
       "      <td>NaN</td>\n",
       "      <td>...</td>\n",
       "      <td>Personal</td>\n",
       "      <td>NaN</td>\n",
       "      <td>4.0</td>\n",
       "      <td>0.0</td>\n",
       "      <td>0.0</td>\n",
       "      <td>0.0</td>\n",
       "      <td>UNK</td>\n",
       "      <td>Unknown</td>\n",
       "      <td>Probable Cause</td>\n",
       "      <td>19-09-1996</td>\n",
       "    </tr>\n",
       "    <tr>\n",
       "      <th>2</th>\n",
       "      <td>20061025X01555</td>\n",
       "      <td>Accident</td>\n",
       "      <td>NYC07LA005</td>\n",
       "      <td>8/30/1974</td>\n",
       "      <td>Saltville, VA</td>\n",
       "      <td>United States</td>\n",
       "      <td>36.9222</td>\n",
       "      <td>-81.8781</td>\n",
       "      <td>NaN</td>\n",
       "      <td>NaN</td>\n",
       "      <td>...</td>\n",
       "      <td>Personal</td>\n",
       "      <td>NaN</td>\n",
       "      <td>3.0</td>\n",
       "      <td>NaN</td>\n",
       "      <td>NaN</td>\n",
       "      <td>NaN</td>\n",
       "      <td>IMC</td>\n",
       "      <td>Cruise</td>\n",
       "      <td>Probable Cause</td>\n",
       "      <td>26-02-2007</td>\n",
       "    </tr>\n",
       "    <tr>\n",
       "      <th>3</th>\n",
       "      <td>20001218X45448</td>\n",
       "      <td>Accident</td>\n",
       "      <td>LAX96LA321</td>\n",
       "      <td>6/19/1977</td>\n",
       "      <td>EUREKA, CA</td>\n",
       "      <td>United States</td>\n",
       "      <td>NaN</td>\n",
       "      <td>NaN</td>\n",
       "      <td>NaN</td>\n",
       "      <td>NaN</td>\n",
       "      <td>...</td>\n",
       "      <td>Personal</td>\n",
       "      <td>NaN</td>\n",
       "      <td>2.0</td>\n",
       "      <td>0.0</td>\n",
       "      <td>0.0</td>\n",
       "      <td>0.0</td>\n",
       "      <td>IMC</td>\n",
       "      <td>Cruise</td>\n",
       "      <td>Probable Cause</td>\n",
       "      <td>12/9/2000</td>\n",
       "    </tr>\n",
       "    <tr>\n",
       "      <th>4</th>\n",
       "      <td>20041105X01764</td>\n",
       "      <td>Accident</td>\n",
       "      <td>CHI79FA064</td>\n",
       "      <td>8/2/1979</td>\n",
       "      <td>Canton, OH</td>\n",
       "      <td>United States</td>\n",
       "      <td>NaN</td>\n",
       "      <td>NaN</td>\n",
       "      <td>NaN</td>\n",
       "      <td>NaN</td>\n",
       "      <td>...</td>\n",
       "      <td>Personal</td>\n",
       "      <td>NaN</td>\n",
       "      <td>1.0</td>\n",
       "      <td>2.0</td>\n",
       "      <td>NaN</td>\n",
       "      <td>0.0</td>\n",
       "      <td>VMC</td>\n",
       "      <td>Approach</td>\n",
       "      <td>Probable Cause</td>\n",
       "      <td>16-04-1980</td>\n",
       "    </tr>\n",
       "  </tbody>\n",
       "</table>\n",
       "<p>5 rows × 31 columns</p>\n",
       "</div>"
      ],
      "text/plain": [
       "         Event.Id Investigation.Type Accident.Number  Event.Date  \\\n",
       "0  20001218X45444           Accident      SEA87LA080  10/24/1948   \n",
       "1  20001218X45447           Accident      LAX94LA336   7/19/1962   \n",
       "2  20061025X01555           Accident      NYC07LA005   8/30/1974   \n",
       "3  20001218X45448           Accident      LAX96LA321   6/19/1977   \n",
       "4  20041105X01764           Accident      CHI79FA064    8/2/1979   \n",
       "\n",
       "          Location        Country Latitude Longitude Airport.Code  \\\n",
       "0  MOOSE CREEK, ID  United States      NaN       NaN          NaN   \n",
       "1   BRIDGEPORT, CA  United States      NaN       NaN          NaN   \n",
       "2    Saltville, VA  United States  36.9222  -81.8781          NaN   \n",
       "3       EUREKA, CA  United States      NaN       NaN          NaN   \n",
       "4       Canton, OH  United States      NaN       NaN          NaN   \n",
       "\n",
       "  Airport.Name  ... Purpose.of.flight Air.carrier Total.Fatal.Injuries  \\\n",
       "0          NaN  ...          Personal         NaN                  2.0   \n",
       "1          NaN  ...          Personal         NaN                  4.0   \n",
       "2          NaN  ...          Personal         NaN                  3.0   \n",
       "3          NaN  ...          Personal         NaN                  2.0   \n",
       "4          NaN  ...          Personal         NaN                  1.0   \n",
       "\n",
       "  Total.Serious.Injuries Total.Minor.Injuries Total.Uninjured  \\\n",
       "0                    0.0                  0.0             0.0   \n",
       "1                    0.0                  0.0             0.0   \n",
       "2                    NaN                  NaN             NaN   \n",
       "3                    0.0                  0.0             0.0   \n",
       "4                    2.0                  NaN             0.0   \n",
       "\n",
       "  Weather.Condition  Broad.phase.of.flight   Report.Status Publication.Date  \n",
       "0               UNK                 Cruise  Probable Cause              NaN  \n",
       "1               UNK                Unknown  Probable Cause       19-09-1996  \n",
       "2               IMC                 Cruise  Probable Cause       26-02-2007  \n",
       "3               IMC                 Cruise  Probable Cause        12/9/2000  \n",
       "4               VMC               Approach  Probable Cause       16-04-1980  \n",
       "\n",
       "[5 rows x 31 columns]"
      ]
     },
     "execution_count": 2,
     "metadata": {},
     "output_type": "execute_result"
    }
   ],
   "source": [
    "aircraft_df.head()"
   ]
  },
  {
   "cell_type": "code",
   "execution_count": 2,
   "metadata": {},
   "outputs": [
    {
     "data": {
      "text/html": [
       "<div>\n",
       "<style scoped>\n",
       "    .dataframe tbody tr th:only-of-type {\n",
       "        vertical-align: middle;\n",
       "    }\n",
       "\n",
       "    .dataframe tbody tr th {\n",
       "        vertical-align: top;\n",
       "    }\n",
       "\n",
       "    .dataframe thead th {\n",
       "        text-align: right;\n",
       "    }\n",
       "</style>\n",
       "<table border=\"1\" class=\"dataframe\">\n",
       "  <thead>\n",
       "    <tr style=\"text-align: right;\">\n",
       "      <th></th>\n",
       "      <th>Event.Date</th>\n",
       "      <th>Country</th>\n",
       "      <th>Make</th>\n",
       "      <th>Purpose.of.flight</th>\n",
       "      <th>Total.Fatal.Injuries</th>\n",
       "      <th>Weather.Condition</th>\n",
       "    </tr>\n",
       "  </thead>\n",
       "  <tbody>\n",
       "    <tr>\n",
       "      <th>0</th>\n",
       "      <td>10/24/1948</td>\n",
       "      <td>United States</td>\n",
       "      <td>Stinson</td>\n",
       "      <td>Personal</td>\n",
       "      <td>2.0</td>\n",
       "      <td>UNK</td>\n",
       "    </tr>\n",
       "    <tr>\n",
       "      <th>1</th>\n",
       "      <td>7/19/1962</td>\n",
       "      <td>United States</td>\n",
       "      <td>Piper</td>\n",
       "      <td>Personal</td>\n",
       "      <td>4.0</td>\n",
       "      <td>UNK</td>\n",
       "    </tr>\n",
       "    <tr>\n",
       "      <th>2</th>\n",
       "      <td>8/30/1974</td>\n",
       "      <td>United States</td>\n",
       "      <td>Cessna</td>\n",
       "      <td>Personal</td>\n",
       "      <td>3.0</td>\n",
       "      <td>IMC</td>\n",
       "    </tr>\n",
       "    <tr>\n",
       "      <th>3</th>\n",
       "      <td>6/19/1977</td>\n",
       "      <td>United States</td>\n",
       "      <td>Rockwell</td>\n",
       "      <td>Personal</td>\n",
       "      <td>2.0</td>\n",
       "      <td>IMC</td>\n",
       "    </tr>\n",
       "    <tr>\n",
       "      <th>4</th>\n",
       "      <td>8/2/1979</td>\n",
       "      <td>United States</td>\n",
       "      <td>Cessna</td>\n",
       "      <td>Personal</td>\n",
       "      <td>1.0</td>\n",
       "      <td>VMC</td>\n",
       "    </tr>\n",
       "  </tbody>\n",
       "</table>\n",
       "</div>"
      ],
      "text/plain": [
       "   Event.Date        Country      Make Purpose.of.flight  \\\n",
       "0  10/24/1948  United States   Stinson          Personal   \n",
       "1   7/19/1962  United States     Piper          Personal   \n",
       "2   8/30/1974  United States    Cessna          Personal   \n",
       "3   6/19/1977  United States  Rockwell          Personal   \n",
       "4    8/2/1979  United States    Cessna          Personal   \n",
       "\n",
       "   Total.Fatal.Injuries Weather.Condition  \n",
       "0                   2.0               UNK  \n",
       "1                   4.0               UNK  \n",
       "2                   3.0               IMC  \n",
       "3                   2.0               IMC  \n",
       "4                   1.0               VMC  "
      ]
     },
     "execution_count": 2,
     "metadata": {},
     "output_type": "execute_result"
    }
   ],
   "source": [
    "# There are many columns not relevant to our analysis. \n",
    "# We'll keep the date, country, make (manufacturer), purpose, total fatal injuries and weather columns.\n",
    "analysis_df = pd.read_csv('data/Aviation_Data.csv', usecols=[3,5,14,21,23,27])\n",
    "analysis_df.head()"
   ]
  },
  {
   "cell_type": "code",
   "execution_count": 3,
   "metadata": {},
   "outputs": [
    {
     "data": {
      "text/html": [
       "<div>\n",
       "<style scoped>\n",
       "    .dataframe tbody tr th:only-of-type {\n",
       "        vertical-align: middle;\n",
       "    }\n",
       "\n",
       "    .dataframe tbody tr th {\n",
       "        vertical-align: top;\n",
       "    }\n",
       "\n",
       "    .dataframe thead th {\n",
       "        text-align: right;\n",
       "    }\n",
       "</style>\n",
       "<table border=\"1\" class=\"dataframe\">\n",
       "  <thead>\n",
       "    <tr style=\"text-align: right;\">\n",
       "      <th></th>\n",
       "      <th>Event.Date</th>\n",
       "      <th>Country</th>\n",
       "      <th>Make</th>\n",
       "      <th>Purpose.of.flight</th>\n",
       "      <th>Total.Fatal.Injuries</th>\n",
       "      <th>Weather.Condition</th>\n",
       "    </tr>\n",
       "  </thead>\n",
       "  <tbody>\n",
       "    <tr>\n",
       "      <th>47675</th>\n",
       "      <td>2000-01-01</td>\n",
       "      <td>United States</td>\n",
       "      <td>Cessna</td>\n",
       "      <td>Positioning</td>\n",
       "      <td>0.0</td>\n",
       "      <td>VMC</td>\n",
       "    </tr>\n",
       "    <tr>\n",
       "      <th>47676</th>\n",
       "      <td>2000-01-01</td>\n",
       "      <td>United States</td>\n",
       "      <td>Bellanca</td>\n",
       "      <td>Personal</td>\n",
       "      <td>2.0</td>\n",
       "      <td>IMC</td>\n",
       "    </tr>\n",
       "    <tr>\n",
       "      <th>47677</th>\n",
       "      <td>2000-01-02</td>\n",
       "      <td>United States</td>\n",
       "      <td>Cessna</td>\n",
       "      <td>Personal</td>\n",
       "      <td>0.0</td>\n",
       "      <td>VMC</td>\n",
       "    </tr>\n",
       "    <tr>\n",
       "      <th>47678</th>\n",
       "      <td>2000-01-02</td>\n",
       "      <td>United States</td>\n",
       "      <td>Cessna</td>\n",
       "      <td>Instructional</td>\n",
       "      <td>0.0</td>\n",
       "      <td>VMC</td>\n",
       "    </tr>\n",
       "    <tr>\n",
       "      <th>47679</th>\n",
       "      <td>2000-01-02</td>\n",
       "      <td>United States</td>\n",
       "      <td>Piper</td>\n",
       "      <td>Personal</td>\n",
       "      <td>0.0</td>\n",
       "      <td>VMC</td>\n",
       "    </tr>\n",
       "  </tbody>\n",
       "</table>\n",
       "</div>"
      ],
      "text/plain": [
       "      Event.Date        Country      Make Purpose.of.flight  \\\n",
       "47675 2000-01-01  United States    Cessna       Positioning   \n",
       "47676 2000-01-01  United States  Bellanca          Personal   \n",
       "47677 2000-01-02  United States    Cessna          Personal   \n",
       "47678 2000-01-02  United States    Cessna     Instructional   \n",
       "47679 2000-01-02  United States     Piper          Personal   \n",
       "\n",
       "       Total.Fatal.Injuries Weather.Condition  \n",
       "47675                   0.0               VMC  \n",
       "47676                   2.0               IMC  \n",
       "47677                   0.0               VMC  \n",
       "47678                   0.0               VMC  \n",
       "47679                   0.0               VMC  "
      ]
     },
     "execution_count": 3,
     "metadata": {},
     "output_type": "execute_result"
    }
   ],
   "source": [
    "# The data goes as far back as 1948. To keep the analysis relevant to today, we set a cut-off date of Jan 1, 2000:\n",
    "analysis_df['Event.Date'] = pd.to_datetime(analysis_df['Event.Date'])\n",
    "filtered_df = analysis_df[(analysis_df['Event.Date'] >= '2000-01-01')]\n",
    "filtered_df.head()"
   ]
  },
  {
   "cell_type": "code",
   "execution_count": 4,
   "metadata": {
    "scrolled": true
   },
   "outputs": [
    {
     "data": {
      "text/plain": [
       "Cessna               5666\n",
       "CESSNA               4922\n",
       "Piper                3075\n",
       "PIPER                2841\n",
       "Beech                1212\n",
       "                     ... \n",
       "Kenneth Parmerter       1\n",
       "Bacon                   1\n",
       "Betts                   1\n",
       "CAMPBELL JOHN           1\n",
       "Steinke                 1\n",
       "Name: Make, Length: 5811, dtype: int64"
      ]
     },
     "execution_count": 4,
     "metadata": {},
     "output_type": "execute_result"
    }
   ],
   "source": [
    "# Let's clean up the Make / Manufacturer column: \n",
    "filtered_df['Make'].value_counts()"
   ]
  },
  {
   "cell_type": "code",
   "execution_count": 5,
   "metadata": {},
   "outputs": [
    {
     "name": "stderr",
     "output_type": "stream",
     "text": [
      "<ipython-input-5-dc9cd1cefda8>:2: SettingWithCopyWarning: \n",
      "A value is trying to be set on a copy of a slice from a DataFrame.\n",
      "Try using .loc[row_indexer,col_indexer] = value instead\n",
      "\n",
      "See the caveats in the documentation: https://pandas.pydata.org/pandas-docs/stable/user_guide/indexing.html#returning-a-view-versus-a-copy\n",
      "  filtered_df['Make'] = filtered_df['Make'].str.title()\n"
     ]
    },
    {
     "data": {
      "text/plain": [
       "Cessna                   10588\n",
       "Piper                     5916\n",
       "Beech                     2254\n",
       "Boeing                    1741\n",
       "Bell                      1216\n",
       "                         ...  \n",
       "Barber Warren D              1\n",
       "Western International        1\n",
       "Christopher John P           1\n",
       "Ronald J Bender              1\n",
       "Steinke                      1\n",
       "Name: Make, Length: 5245, dtype: int64"
      ]
     },
     "execution_count": 5,
     "metadata": {},
     "output_type": "execute_result"
    }
   ],
   "source": [
    "# The capitalization of each manufacturer's name should be standardized:\n",
    "filtered_df['Make'] = filtered_df['Make'].str.title()\n",
    "filtered_df['Make'].value_counts()"
   ]
  },
  {
   "cell_type": "code",
   "execution_count": 6,
   "metadata": {},
   "outputs": [
    {
     "data": {
      "text/plain": [
       "Cessna                         10588\n",
       "Piper                           5916\n",
       "Beech                           2254\n",
       "Boeing                          1741\n",
       "Bell                            1216\n",
       "Robinson                         808\n",
       "Mooney                           580\n",
       "Air Tractor                      364\n",
       "Hughes                           348\n",
       "Bellanca                         338\n",
       "Schweizer                        336\n",
       "Maule                            293\n",
       "Airbus                           291\n",
       "Aeronca                          272\n",
       "Mcdonnell Douglas                238\n",
       "Grumman                          232\n",
       "Robinson Helicopter              230\n",
       "Cirrus Design Corp               223\n",
       "Air Tractor Inc                  219\n",
       "Champion                         200\n",
       "Eurocopter                       198\n",
       "Embraer                          195\n",
       "Robinson Helicopter Company      194\n",
       "Luscombe                         192\n",
       "Stinson                          185\n",
       "North American                   174\n",
       "De Havilland                     158\n",
       "Aero Commander                   149\n",
       "Cirrus                           148\n",
       "Taylorcraft                      140\n",
       "Sikorsky                         132\n",
       "Aerospatiale                     127\n",
       "Vans                             125\n",
       "Aviat                            118\n",
       "Enstrom                          107\n",
       "Dehavilland                      101\n",
       "Name: Make, dtype: int64"
      ]
     },
     "execution_count": 6,
     "metadata": {},
     "output_type": "execute_result"
    }
   ],
   "source": [
    "# The long tail of names with just one value will take a long time to individually check and clean up.\n",
    "# To simplify the task, I eliminate the names which appear less than 100 times:\n",
    "value_counts = filtered_df['Make'].value_counts()\n",
    "to_keep = value_counts[value_counts > 100].index\n",
    "filtered_df = filtered_df[filtered_df['Make'].isin(to_keep)]\n",
    "\n",
    "filtered_df['Make'].value_counts()"
   ]
  },
  {
   "cell_type": "code",
   "execution_count": 7,
   "metadata": {},
   "outputs": [
    {
     "data": {
      "text/plain": [
       "Cessna               10588\n",
       "Piper                 5916\n",
       "Beech                 2254\n",
       "Boeing                1741\n",
       "Robinson              1232\n",
       "Bell                  1216\n",
       "Air Tractor            583\n",
       "Mooney                 580\n",
       "Cirrus                 371\n",
       "Hughes                 348\n",
       "Bellanca               338\n",
       "Schweizer              336\n",
       "Maule                  293\n",
       "Airbus                 291\n",
       "Aeronca                272\n",
       "De Havilland           259\n",
       "Mcdonnell Douglas      238\n",
       "Grumman                232\n",
       "Champion               200\n",
       "Eurocopter             198\n",
       "Embraer                195\n",
       "Luscombe               192\n",
       "Stinson                185\n",
       "North American         174\n",
       "Aero Commander         149\n",
       "Taylorcraft            140\n",
       "Sikorsky               132\n",
       "Aerospatiale           127\n",
       "Vans                   125\n",
       "Aviat                  118\n",
       "Enstrom                107\n",
       "Name: Make, dtype: int64"
      ]
     },
     "execution_count": 7,
     "metadata": {},
     "output_type": "execute_result"
    }
   ],
   "source": [
    "# Now, it's easier to spot which manufacturers' names need to be standardized:\n",
    "filtered_df['Make'].replace(['Air Tractor Inc','Cirrus Design Corp', 'Dehavilland',\n",
    "                             'Robinson Helicopter Company','Robinson Helicopter'], \n",
    "                            ['Air Tractor','Cirrus','De Havilland',\n",
    "                             'Robinson','Robinson'], inplace=True)\n",
    "filtered_df['Make'].value_counts()"
   ]
  },
  {
   "cell_type": "code",
   "execution_count": 8,
   "metadata": {},
   "outputs": [
    {
     "data": {
      "text/plain": [
       "Cessna         10588\n",
       "Piper           5916\n",
       "Beech           2254\n",
       "Boeing          1741\n",
       "Robinson        1232\n",
       "Bell            1216\n",
       "Air Tractor      583\n",
       "Mooney           580\n",
       "Name: Make, dtype: int64"
      ]
     },
     "execution_count": 8,
     "metadata": {},
     "output_type": "execute_result"
    }
   ],
   "source": [
    "# The shortlist of 31 manufacturers is still too long for the company to screen.\n",
    "# We'll focus on the top 25% of manufacturers, i.e. 8 largest manufacturers:\n",
    "value_counts = filtered_df['Make'].value_counts()\n",
    "to_keep = value_counts[value_counts >= 580].index\n",
    "filtered_df = filtered_df[filtered_df['Make'].isin(to_keep)]\n",
    "\n",
    "filtered_df['Make'].value_counts()"
   ]
  },
  {
   "cell_type": "code",
   "execution_count": 9,
   "metadata": {},
   "outputs": [
    {
     "data": {
      "text/plain": [
       "United States                       20535\n",
       "Brazil                                255\n",
       "Mexico                                200\n",
       "Canada                                198\n",
       "Australia                             197\n",
       "                                    ...  \n",
       "Cyprus                                  1\n",
       "Solomon Islands                         1\n",
       "United Arab Emirates                    1\n",
       "Guinea                                  1\n",
       "Saint Vincent and the Grenadines        1\n",
       "Name: Country, Length: 182, dtype: int64"
      ]
     },
     "execution_count": 9,
     "metadata": {},
     "output_type": "execute_result"
    }
   ],
   "source": [
    "# Next, let's clean up the 'Country' column:\n",
    "filtered_df['Country'].value_counts()"
   ]
  },
  {
   "cell_type": "code",
   "execution_count": 10,
   "metadata": {},
   "outputs": [
    {
     "data": {
      "text/plain": [
       "United States    20535\n",
       "Overseas          3575\n",
       "Name: Location, dtype: int64"
      ]
     },
     "execution_count": 10,
     "metadata": {},
     "output_type": "execute_result"
    }
   ],
   "source": [
    "# We'll directly address the business question of U.S. vs. overseas by modifying the name of non-US countries to 'Overseas':\n",
    "filtered_df.loc[filtered_df['Country'] != 'United States', 'Country'] = 'Overseas'\n",
    "\n",
    "# We'll also rename the column from 'Country' to 'Location'\n",
    "filtered_df.rename(columns={'Country': 'Location'}, inplace=True)\n",
    "filtered_df['Location'].value_counts()"
   ]
  },
  {
   "cell_type": "code",
   "execution_count": 11,
   "metadata": {},
   "outputs": [
    {
     "data": {
      "text/plain": [
       "Personal                     12605\n",
       "Instructional                 3573\n",
       "Aerial Application             990\n",
       "Business                       700\n",
       "Unknown                        558\n",
       "Positioning                    498\n",
       "Other Work Use                 321\n",
       "Aerial Observation             280\n",
       "Public Aircraft                139\n",
       "Skydiving                      130\n",
       "Ferry                          117\n",
       "Flight Test                    115\n",
       "Executive/corporate            107\n",
       "Banner Tow                      78\n",
       "Public Aircraft - State         44\n",
       "Public Aircraft - Local         43\n",
       "External Load                   36\n",
       "Public Aircraft - Federal       35\n",
       "Glider Tow                      28\n",
       "Firefighting                    22\n",
       "Air Race show                    6\n",
       "Air Drop                         5\n",
       "Air Race/show                    4\n",
       "ASHO                             3\n",
       "PUBS                             3\n",
       "PUBL                             1\n",
       "Name: Purpose, dtype: int64"
      ]
     },
     "execution_count": 11,
     "metadata": {},
     "output_type": "execute_result"
    }
   ],
   "source": [
    "# Next, let's clean up the Purpose column:\n",
    "filtered_df.rename(columns={'Purpose.of.flight': 'Purpose'}, inplace=True)\n",
    "filtered_df['Purpose'].value_counts()"
   ]
  },
  {
   "cell_type": "code",
   "execution_count": 12,
   "metadata": {},
   "outputs": [
    {
     "data": {
      "text/plain": [
       "Personal                     12605\n",
       "Instructional                 3573\n",
       "Aerial Application             990\n",
       "Business                       700\n",
       "Positioning                    498\n",
       "Other Work Use                 321\n",
       "Aerial Observation             280\n",
       "Public Aircraft                139\n",
       "Ferry                          117\n",
       "Executive/corporate            107\n",
       "Banner Tow                      78\n",
       "Public Aircraft - State         44\n",
       "Public Aircraft - Local         43\n",
       "External Load                   36\n",
       "Public Aircraft - Federal       35\n",
       "Name: Purpose, dtype: int64"
      ]
     },
     "execution_count": 12,
     "metadata": {},
     "output_type": "execute_result"
    }
   ],
   "source": [
    "# We'll eliminate rows with long-tail purposes not relevant to our analysis, such as 'Unknown' and 'Skydiving':\n",
    "irrelevant = ['Unknown','Skydiving','Flight Test',\n",
    "              'Glider Tow','Firefighting','Air Race show',\n",
    "              'Air Drop','Air Race/show','PUBS','ASHO','PUBL']\n",
    "\n",
    "filtered_df.drop(filtered_df[filtered_df['Purpose'].isin(irrelevant)]\n",
    "                        .index, inplace=True)\n",
    "\n",
    "filtered_df['Purpose'].value_counts() "
   ]
  },
  {
   "cell_type": "code",
   "execution_count": 13,
   "metadata": {},
   "outputs": [
    {
     "data": {
      "text/plain": [
       "Personal               16178\n",
       "Commercial & Public     7057\n",
       "Name: Purpose, dtype: int64"
      ]
     },
     "execution_count": 13,
     "metadata": {},
     "output_type": "execute_result"
    }
   ],
   "source": [
    "# We'll group 'Instructional' flights with 'Personal', and group the remaining categories into 'Commercial & Public'\n",
    "filtered_df.loc[filtered_df['Purpose'] == 'Instructional', 'Purpose'] = 'Personal'\n",
    "filtered_df.loc[filtered_df['Purpose'] != 'Personal', 'Purpose'] = 'Commercial & Public'\n",
    "filtered_df['Purpose'].value_counts() "
   ]
  },
  {
   "cell_type": "code",
   "execution_count": 14,
   "metadata": {},
   "outputs": [
    {
     "data": {
      "text/plain": [
       "VMC    18981\n",
       "IMC     1436\n",
       "Unk      155\n",
       "UNK       15\n",
       "Name: Weather, dtype: int64"
      ]
     },
     "execution_count": 14,
     "metadata": {},
     "output_type": "execute_result"
    }
   ],
   "source": [
    "# Finally, let's clean up the Weather column:\n",
    "filtered_df.rename(columns={'Weather.Condition': 'Weather'}, inplace=True)\n",
    "filtered_df['Weather'].value_counts()"
   ]
  },
  {
   "cell_type": "code",
   "execution_count": 15,
   "metadata": {},
   "outputs": [
    {
     "data": {
      "text/plain": [
       "Decent     18981\n",
       "Unknown     2818\n",
       "Poor        1436\n",
       "Name: Weather, dtype: int64"
      ]
     },
     "execution_count": 15,
     "metadata": {},
     "output_type": "execute_result"
    }
   ],
   "source": [
    "# We'll standardize \"UNK\" and replace these abbreivations with easily understood descriptions:\n",
    "filtered_df['Weather'].replace('Unk', 'UNK', inplace=True)\n",
    "filtered_df['Weather'].replace(['VMC', 'IMC', 'UNK'] , \n",
    "                                         ['Decent', 'Poor', 'Unknown'], inplace=True)\n",
    "\n",
    "# Then, we need to replace the null values with 'Unknown':\n",
    "filtered_df['Weather'].fillna('Unknown', inplace = True)\n",
    "\n",
    "filtered_df['Weather'].value_counts()"
   ]
  },
  {
   "cell_type": "code",
   "execution_count": 16,
   "metadata": {},
   "outputs": [
    {
     "data": {
      "text/html": [
       "<div>\n",
       "<style scoped>\n",
       "    .dataframe tbody tr th:only-of-type {\n",
       "        vertical-align: middle;\n",
       "    }\n",
       "\n",
       "    .dataframe tbody tr th {\n",
       "        vertical-align: top;\n",
       "    }\n",
       "\n",
       "    .dataframe thead th {\n",
       "        text-align: right;\n",
       "    }\n",
       "</style>\n",
       "<table border=\"1\" class=\"dataframe\">\n",
       "  <thead>\n",
       "    <tr style=\"text-align: right;\">\n",
       "      <th></th>\n",
       "      <th>Event.Date</th>\n",
       "      <th>Location</th>\n",
       "      <th>Make</th>\n",
       "      <th>Purpose</th>\n",
       "      <th>Total.Fatal.Injuries</th>\n",
       "      <th>Weather</th>\n",
       "      <th>Fatal Injury Check</th>\n",
       "    </tr>\n",
       "  </thead>\n",
       "  <tbody>\n",
       "    <tr>\n",
       "      <th>47675</th>\n",
       "      <td>2000-01-01</td>\n",
       "      <td>United States</td>\n",
       "      <td>Cessna</td>\n",
       "      <td>Commercial &amp; Public</td>\n",
       "      <td>0.0</td>\n",
       "      <td>Decent</td>\n",
       "      <td>0</td>\n",
       "    </tr>\n",
       "    <tr>\n",
       "      <th>47677</th>\n",
       "      <td>2000-01-02</td>\n",
       "      <td>United States</td>\n",
       "      <td>Cessna</td>\n",
       "      <td>Personal</td>\n",
       "      <td>0.0</td>\n",
       "      <td>Decent</td>\n",
       "      <td>0</td>\n",
       "    </tr>\n",
       "    <tr>\n",
       "      <th>47678</th>\n",
       "      <td>2000-01-02</td>\n",
       "      <td>United States</td>\n",
       "      <td>Cessna</td>\n",
       "      <td>Personal</td>\n",
       "      <td>0.0</td>\n",
       "      <td>Decent</td>\n",
       "      <td>0</td>\n",
       "    </tr>\n",
       "    <tr>\n",
       "      <th>47679</th>\n",
       "      <td>2000-01-02</td>\n",
       "      <td>United States</td>\n",
       "      <td>Piper</td>\n",
       "      <td>Personal</td>\n",
       "      <td>0.0</td>\n",
       "      <td>Decent</td>\n",
       "      <td>0</td>\n",
       "    </tr>\n",
       "    <tr>\n",
       "      <th>47680</th>\n",
       "      <td>2000-01-02</td>\n",
       "      <td>United States</td>\n",
       "      <td>Piper</td>\n",
       "      <td>Personal</td>\n",
       "      <td>0.0</td>\n",
       "      <td>Decent</td>\n",
       "      <td>0</td>\n",
       "    </tr>\n",
       "  </tbody>\n",
       "</table>\n",
       "</div>"
      ],
      "text/plain": [
       "      Event.Date       Location    Make              Purpose  \\\n",
       "47675 2000-01-01  United States  Cessna  Commercial & Public   \n",
       "47677 2000-01-02  United States  Cessna             Personal   \n",
       "47678 2000-01-02  United States  Cessna             Personal   \n",
       "47679 2000-01-02  United States   Piper             Personal   \n",
       "47680 2000-01-02  United States   Piper             Personal   \n",
       "\n",
       "       Total.Fatal.Injuries Weather  Fatal Injury Check  \n",
       "47675                   0.0  Decent                   0  \n",
       "47677                   0.0  Decent                   0  \n",
       "47678                   0.0  Decent                   0  \n",
       "47679                   0.0  Decent                   0  \n",
       "47680                   0.0  Decent                   0  "
      ]
     },
     "execution_count": 16,
     "metadata": {},
     "output_type": "execute_result"
    }
   ],
   "source": [
    "# One more thing: we'll create a boolean column to indicate whether or not the accident involved a fatal injury.\n",
    "# This way, we can use the 'Sum' function for this column in Tableau to count the total number of accidents by manufacturer:\n",
    "filtered_df['Fatal Injury Check'] = np.where(filtered_df['Total.Fatal.Injuries'] == 0, 0, 1)\n",
    "\n",
    "filtered_df.head()"
   ]
  },
  {
   "cell_type": "code",
   "execution_count": 17,
   "metadata": {},
   "outputs": [],
   "source": [
    "# Finally, the filtered data is written to Excel to visualize in Tableau:\n",
    "filtered_df.to_excel('filtered_aircraft_data.xlsx')"
   ]
  },
  {
   "cell_type": "markdown",
   "metadata": {},
   "source": [
    "### Data Analysis and Conclusions\n",
    "For the three business questions, I prepared visualizations on Tableau. Link to the Dashboard: https://public.tableau.com/app/profile/yi.wei.liu/viz/Phase1Project_16984566959940/AnalysisDashboard\n",
    "\n",
    "In short, Boeing is overall the manufacturer with the best safety record. Only 28% (461 of 1,675) of Boeing's accidents involved a fatal injury, vs. 50% (10,860 of 21,560) for all manufacturers ex-Boeing.\n",
    "\n",
    "#### 1) Location\n",
    "- Across all manufacturers, 48% of U.S. flight accidents involved a fatal injury vs. 52% of overseas flights. \n",
    "- Within U.S. flights, 39% (233 of 595) of Boeing's accidents involved a fatal injury, vs. 48% (9,408 of 19,423) for all manufacturers ex-Boeing.\n",
    "- Within overseas flights, it was 21% (228 of 1,080) for Boeing vs. 68% (1,452 of 2,137) for others.\n",
    "\n",
    "Recommendation:\n",
    "- There is only a slightly higher safety risk overseas compared to the U.S. \n",
    "- If the Company decides it is commercially feasible to operate overseas, I recommend Boeing as the only manufacturer safe enough for overseas flights. For domestic flights, Boeing is still the best choice, but other manufacturers such as Robinson and Air Tractor are not far behind. \n",
    "- An avenue for further inquiry is why the fatal injury ratio for Boeing is much lower overseas than in the U.S. (21% vs 39%).\n",
    "\n",
    "#### 2) Purpose\n",
    "- Across all manufacturers, 48% (3,389 of 7,057) of commercial aircraft accidents involved a fatal injury vs. 49% for personal aircraft (7,932 of 16,178).\n",
    "- Within commercial flights, 27% (418 of 1,545) of Boeing's accidents involved a fatal injury vs. 54% (2,971 of 5,512) for all manufacturers ex-Boeing.\n",
    "- Within personal flights, it was 33% (43 of 130) for Boeing vs. 49% (7,889 of 16,048) for others.\n",
    "\n",
    "Recommendation:\n",
    "- The safety risk for commercial and personal aircraft are similar. The Company may operate both types of aircraft depending on commercial feasibility. Boeing is the safest option for both.\n",
    "\n",
    "#### 3) Weather\n",
    "- Across all 23,235 accidents, 82% involved decent weather and 6% involved poor weather; weather for 12% of accidents were unknown.\n",
    "- Across 11,321 accidents with a fatal injury, 80% involved decent weather and 10% involved poor weather; weather for 10% were unknown.\n",
    "- In decent weather, 48% of all accidents involved a fatal injury. In poor weather, 81% of accidents involved a fatal injury.\n",
    "\n",
    "Recommendation:\n",
    "- In poor weather, the fatal injury rate was significantly higher than average. I would recommend our company not to operate aircraft in poor weather to reduce the risk of fatal injuries."
   ]
  },
  {
   "cell_type": "markdown",
   "metadata": {},
   "source": [
    "Thank you for reading this notebook!"
   ]
  }
 ],
 "metadata": {
  "kernelspec": {
   "display_name": "Python 3",
   "language": "python",
   "name": "python3"
  },
  "language_info": {
   "codemirror_mode": {
    "name": "ipython",
    "version": 3
   },
   "file_extension": ".py",
   "mimetype": "text/x-python",
   "name": "python",
   "nbconvert_exporter": "python",
   "pygments_lexer": "ipython3",
   "version": "3.8.5"
  }
 },
 "nbformat": 4,
 "nbformat_minor": 2
}
